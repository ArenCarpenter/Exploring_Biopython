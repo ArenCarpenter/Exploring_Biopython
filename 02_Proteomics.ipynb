{
 "cells": [
  {
   "cell_type": "markdown",
   "id": "confirmed-flashing",
   "metadata": {},
   "source": [
    "# Proteomics"
   ]
  },
  {
   "cell_type": "markdown",
   "id": "planned-confirmation",
   "metadata": {},
   "source": [
    "# Libraries to Import"
   ]
  },
  {
   "cell_type": "markdown",
   "id": "indonesian-hollywood",
   "metadata": {},
   "source": [
    "Be sure to activate the \"biopython\" conda environment."
   ]
  },
  {
   "cell_type": "code",
   "execution_count": null,
   "id": "weekly-cassette",
   "metadata": {},
   "outputs": [],
   "source": [
    "# !jupyter-nbextension enable nglview --py --sys-prefix"
   ]
  },
  {
   "cell_type": "code",
   "execution_count": 3,
   "id": "engaged-ecology",
   "metadata": {},
   "outputs": [
    {
     "data": {
      "application/vnd.jupyter.widget-view+json": {
       "model_id": "9244e011065740e79adbb9c7c37d3b0c",
       "version_major": 2,
       "version_minor": 0
      },
      "text/plain": []
     },
     "metadata": {},
     "output_type": "display_data"
    }
   ],
   "source": [
    "from Bio.PDB import *\n",
    "from Bio.SeqUtils.ProtParam import ProteinAnalysis\n",
    "import nglview as nv\n",
    "import ipywidgets\n",
    "\n",
    "import warnings\n",
    "warnings.filterwarnings('ignore')"
   ]
  },
  {
   "cell_type": "markdown",
   "id": "nonprofit-million",
   "metadata": {},
   "source": [
    "# Using the PDB (Protein Data Bank) File Format"
   ]
  },
  {
   "cell_type": "code",
   "execution_count": 2,
   "id": "freelance-quilt",
   "metadata": {},
   "outputs": [],
   "source": [
    "parser = PDBParser()"
   ]
  },
  {
   "cell_type": "code",
   "execution_count": 3,
   "id": "burning-junior",
   "metadata": {},
   "outputs": [],
   "source": [
    "structure = parser.get_structure(\"PHA-L\", \"Data/1FAT.pdb\")"
   ]
  },
  {
   "cell_type": "code",
   "execution_count": 4,
   "id": "maritime-washington",
   "metadata": {},
   "outputs": [
    {
     "data": {
      "application/vnd.jupyter.widget-view+json": {
       "model_id": "dc6fc96ae91c4313b6b7b5cae5282ee3",
       "version_major": 2,
       "version_minor": 0
      },
      "text/plain": [
       "NGLWidget()"
      ]
     },
     "metadata": {},
     "output_type": "display_data"
    }
   ],
   "source": [
    "view = nv.show_biopython(structure)\n",
    "view"
   ]
  },
  {
   "cell_type": "markdown",
   "id": "annoying-split",
   "metadata": {},
   "source": [
    "# Using the CIF (Crystallographic Information File) File Format"
   ]
  },
  {
   "cell_type": "code",
   "execution_count": 4,
   "id": "mechanical-sperm",
   "metadata": {},
   "outputs": [],
   "source": [
    "parser = MMCIFParser()"
   ]
  },
  {
   "cell_type": "code",
   "execution_count": 5,
   "id": "lesbian-pottery",
   "metadata": {},
   "outputs": [],
   "source": [
    "structure = parser.get_structure(\"PHA-L\", \"fa/1fat.cif\")"
   ]
  },
  {
   "cell_type": "code",
   "execution_count": 6,
   "id": "moved-china",
   "metadata": {},
   "outputs": [
    {
     "data": {
      "application/vnd.jupyter.widget-view+json": {
       "model_id": "f0cbdf3136014a488a5c20b2839e2eea",
       "version_major": 2,
       "version_minor": 0
      },
      "text/plain": [
       "NGLWidget()"
      ]
     },
     "metadata": {},
     "output_type": "display_data"
    }
   ],
   "source": [
    "view = nv.show_biopython(structure)\n",
    "view"
   ]
  },
  {
   "cell_type": "markdown",
   "id": "unique-middle",
   "metadata": {},
   "source": [
    "# Diving into the Header Information"
   ]
  },
  {
   "cell_type": "code",
   "execution_count": 7,
   "id": "becoming-audit",
   "metadata": {},
   "outputs": [],
   "source": [
    "mmcif_dict = MMCIF2Dict.MMCIF2Dict(\"fa/1fat.cif\")"
   ]
  },
  {
   "cell_type": "code",
   "execution_count": 8,
   "id": "liquid-directory",
   "metadata": {
    "scrolled": false
   },
   "outputs": [],
   "source": [
    "# list(mmcif_dict.keys())"
   ]
  },
  {
   "cell_type": "markdown",
   "id": "intense-expense",
   "metadata": {},
   "source": [
    "**What’s the overall layout of a Structure object?**\n",
    "\n",
    "The Structure object follows the so-called SMCRA (Structure/Model/Chain/Residue/Atom) architecture :\n",
    "\n",
    "- A structure consists of models\n",
    "- A model consists of chains\n",
    "- A chain consists of residues\n",
    "- A residue consists of atoms"
   ]
  },
  {
   "cell_type": "markdown",
   "id": "portable-opposition",
   "metadata": {},
   "source": [
    "**Accessing Residue Sequence**\n",
    "\n",
    "The above molecule has 4 major models, which is represented below when resseq (Residue Sequence) resets for each model."
   ]
  },
  {
   "cell_type": "code",
   "execution_count": 9,
   "id": "universal-northern",
   "metadata": {},
   "outputs": [],
   "source": [
    "# Iterate over all residues in a model\n",
    "# for model in structure:\n",
    "#     for residue in model.get_residues():\n",
    "#         print(residue)"
   ]
  },
  {
   "cell_type": "code",
   "execution_count": 10,
   "id": "secret-monster",
   "metadata": {},
   "outputs": [],
   "source": [
    "residues = structure.get_residues() # returns a generator object"
   ]
  },
  {
   "cell_type": "code",
   "execution_count": 11,
   "id": "liked-tissue",
   "metadata": {},
   "outputs": [],
   "source": [
    "# [item for item in residues]"
   ]
  },
  {
   "cell_type": "code",
   "execution_count": 12,
   "id": "basic-enforcement",
   "metadata": {},
   "outputs": [],
   "source": [
    "res_list = Selection.unfold_entities(structure, \"R\")"
   ]
  },
  {
   "cell_type": "markdown",
   "id": "confident-looking",
   "metadata": {},
   "source": [
    "**Polypeptide Builder**\n",
    "\n",
    "Peptides are characterized by start codons, a sequence of length N, and a stop codon, hence why 4 models can be comprised of 7 chains. You can see the 4 major chains comprising the above structure as well as 3 linking chains."
   ]
  },
  {
   "cell_type": "code",
   "execution_count": 13,
   "id": "alert-population",
   "metadata": {},
   "outputs": [
    {
     "name": "stdout",
     "output_type": "stream",
     "text": [
      "Sequence:  1\n",
      "SNDIYFNFQRFNETNLILQRDASVSSSGQLRLTNLN\n",
      "Sequence:  2\n",
      "NGEPRVGSLGRAFYSAPIQIWDNTTGTVASFATSFTFNIQVPNNAGPADGLAFALVPVGSQPKDKGGFLGLFDGSNSNFHTVAVEFDTLYNKDWDPTERHIGIDVNSIRSIKTTRWDFVNGENAEVLITYDSSTNLLVASLVYPSQKTSFIVSDTVDLKSVLPEWVSVGFSATTGINKGNVETNDVLSWSFASKLS\n",
      "Sequence:  3\n",
      "SNDIYFNFQRFNETNLILQRDASVSSSGQLRLTNLNGNGEPRVGSLGRAFYSAPIQIWDNTTGTVASFATSFTFNIQVPNNAGPADGLAFALVPVGSQPKDKGGFLGLFDGSNSNFHTVAVEFDTLYNKDWDPTERHIGIDVNSIRSIKTTRWDFVNGENAEVLITYDSSTNLLVASLVYPSQKTSFIVSDTVDLKSVLPEWVSVGFSATTGINKGNVETNDVLSWSFASKLS\n",
      "Sequence:  4\n",
      "SNDIYFNFQRFNETNLILQRDASVSSSGQLRLTNLN\n",
      "Sequence:  5\n",
      "NGEPRVGSLGRAFYSAPIQIWDNTTGTVASFATSFTFNIQVPNNAGPADGLAFALVPVGSQPKDKGGFLGLFDGSNSNFHTVAVEFDTLYNKDWDPTERHIGIDVNSIRSIKTTRWDFVNGENAEVLITYDSSTNLLVASLVYPSQKTSFIVSDTVDLKSVLPEWVSVGFSATTGINKGNVETNDVLSWSFASKLS\n",
      "Sequence:  6\n",
      "SNDIYFNFQRFNETNLILQRDASVSSSGQLRLTNL\n",
      "Sequence:  7\n",
      "NGEPRVGSLGRAFYSAPIQIWDNTTGTVASFATSFTFNIQVPNNAGPADGLAFALVPVGSQPKDKGGFLGLFDGSNSNFHTVAVEFDTLYNKDWDPTERHIGIDVNSIRSIKTTRWDFVNGENAEVLITYDSSTNLLVASLVYPSQKTSFIVSDTVDLKSVLPEWVSVGFSATTGINKGNVETNDVLSWSFASKLS\n"
     ]
    }
   ],
   "source": [
    "# Using CA-CA\n",
    "ppb = CaPPBuilder()\n",
    "counter = 1\n",
    "for pp in ppb.build_peptides(structure):\n",
    "    print(\"Sequence: \", counter)\n",
    "    print(pp.get_sequence())\n",
    "    counter += 1"
   ]
  },
  {
   "cell_type": "markdown",
   "id": "sexual-cowboy",
   "metadata": {},
   "source": [
    "With our different chains, we can run protein analysis methods from ProteinAnalysis and store the results in a dict.\n",
    "\n",
    "Protein scale analysis is omitted due to the number of scales that can be examined for. One should run scale analysis ad hoc as detailed below."
   ]
  },
  {
   "cell_type": "code",
   "execution_count": 14,
   "id": "sustainable-reservation",
   "metadata": {},
   "outputs": [],
   "source": [
    "# Define parser and get structure from file\n",
    "parser = MMCIFParser()\n",
    "structure = parser.get_structure(\"PHA-L\", \"fa/1fat.cif\")\n",
    "\n",
    "# Define polypeptide builder\n",
    "ppb = CaPPBuilder()\n",
    "\n",
    "# Create empty list for chains\n",
    "all_seqs = []\n",
    "counter = 1\n",
    "\n",
    "# For each polypeptide in the structure, run protein analysis methods and store in dict\n",
    "for pp in ppb.build_peptides(structure):\n",
    "    seq_info = {}\n",
    "    seq = pp.get_sequence()\n",
    "    analyzed_seq = ProteinAnalysis(str(seq)) # needs to be a str\n",
    "\n",
    "    seq_info['Sequence Number'] = counter # set sequence id\n",
    "    seq_info['Sequence'] = seq # store Seq() object\n",
    "    seq_info['Sequence Length'] = len(seq) # length of seq\n",
    "    seq_info['Molecular Weight'] = round(analyzed_seq.molecular_weight(), 2) # mol weight\n",
    "    seq_info['GRAVY'] = round(analyzed_seq.gravy(), 4) # average hydrophobicity\n",
    "    seq_info['Amino Acid Count'] = analyzed_seq.count_amino_acids() # count residues\n",
    "    seq_info['Amino Acid Percent'] = analyzed_seq.get_amino_acids_percent() # normalized count\n",
    "    seq_info['Secondary Structure'] = analyzed_seq.secondary_structure_fraction() # helix, turn, sheet\n",
    "    \n",
    "    # Update all_seqs list and increase counter\n",
    "    all_seqs.append(seq_info)\n",
    "    counter += 1"
   ]
  },
  {
   "cell_type": "markdown",
   "id": "fifty-connection",
   "metadata": {},
   "source": [
    "Now we have a list of dicts that can be indexed to select information easily. "
   ]
  },
  {
   "cell_type": "code",
   "execution_count": 15,
   "id": "arctic-wagon",
   "metadata": {},
   "outputs": [
    {
     "data": {
      "text/plain": [
       "{'Sequence Number': 1,\n",
       " 'Sequence': Seq('SNDIYFNFQRFNETNLILQRDASVSSSGQLRLTNLN'),\n",
       " 'Sequence Length': 36,\n",
       " 'Molecular Weight': 4176.52,\n",
       " 'GRAVY': -0.5611,\n",
       " 'Amino Acid Count': {'A': 1,\n",
       "  'C': 0,\n",
       "  'D': 2,\n",
       "  'E': 1,\n",
       "  'F': 3,\n",
       "  'G': 1,\n",
       "  'H': 0,\n",
       "  'I': 2,\n",
       "  'K': 0,\n",
       "  'L': 5,\n",
       "  'M': 0,\n",
       "  'N': 6,\n",
       "  'P': 0,\n",
       "  'Q': 3,\n",
       "  'R': 3,\n",
       "  'S': 5,\n",
       "  'T': 2,\n",
       "  'V': 1,\n",
       "  'W': 0,\n",
       "  'Y': 1},\n",
       " 'Amino Acid Percent': {'A': 0.027777777777777776,\n",
       "  'C': 0.0,\n",
       "  'D': 0.05555555555555555,\n",
       "  'E': 0.027777777777777776,\n",
       "  'F': 0.08333333333333333,\n",
       "  'G': 0.027777777777777776,\n",
       "  'H': 0.0,\n",
       "  'I': 0.05555555555555555,\n",
       "  'K': 0.0,\n",
       "  'L': 0.1388888888888889,\n",
       "  'M': 0.0,\n",
       "  'N': 0.16666666666666666,\n",
       "  'P': 0.0,\n",
       "  'Q': 0.08333333333333333,\n",
       "  'R': 0.08333333333333333,\n",
       "  'S': 0.1388888888888889,\n",
       "  'T': 0.05555555555555555,\n",
       "  'V': 0.027777777777777776,\n",
       "  'W': 0.0,\n",
       "  'Y': 0.027777777777777776},\n",
       " 'Secondary Structure': (0.3333333333333333,\n",
       "  0.3333333333333333,\n",
       "  0.19444444444444445)}"
      ]
     },
     "execution_count": 15,
     "metadata": {},
     "output_type": "execute_result"
    }
   ],
   "source": [
    "all_seqs[0]"
   ]
  },
  {
   "cell_type": "markdown",
   "id": "contrary-tattoo",
   "metadata": {},
   "source": [
    "We can also perform protein analysis ad-hoc from stored sequences in the dict."
   ]
  },
  {
   "cell_type": "code",
   "execution_count": 16,
   "id": "veterinary-mentor",
   "metadata": {},
   "outputs": [],
   "source": [
    "seq1 = all_seqs[0]['Sequence']"
   ]
  },
  {
   "cell_type": "markdown",
   "id": "blessed-slovak",
   "metadata": {},
   "source": [
    "A note here though is that ProteinAnalysis() requires a string of the sequence, not a Seq() object. Biopython has an overloaded str() method that can retrieve the raw string from the Seq() object.  "
   ]
  },
  {
   "cell_type": "code",
   "execution_count": 17,
   "id": "wicked-commitment",
   "metadata": {},
   "outputs": [],
   "source": [
    "analysed_seq = ProteinAnalysis(str(seq1))"
   ]
  },
  {
   "cell_type": "markdown",
   "id": "induced-stylus",
   "metadata": {},
   "source": [
    "**Molecular Weight**"
   ]
  },
  {
   "cell_type": "code",
   "execution_count": 18,
   "id": "located-circumstances",
   "metadata": {},
   "outputs": [
    {
     "data": {
      "text/plain": [
       "4176.516699999999"
      ]
     },
     "execution_count": 18,
     "metadata": {},
     "output_type": "execute_result"
    }
   ],
   "source": [
    "analysed_seq.molecular_weight()"
   ]
  },
  {
   "cell_type": "markdown",
   "id": "united-increase",
   "metadata": {},
   "source": [
    "**Gravy**\n",
    "\n",
    "> Protein GRAVY returns the GRAVY (grand average of hydropathy) value for the protein sequences you enter. The GRAVY value is calculated by adding the hydropathy value for each residue and dividing by the length of the sequence (Kyte and Doolittle; 1982).\n",
    "\n",
    "A higher value is increased hydrophobicity.\n",
    "\n",
    "[Source](https://pubmed.ncbi.nlm.nih.gov/7108955/):\n",
    "Kyte J, Doolittle RF (May 1983). \"A simple method for displaying the hydropathic character of a protein\". J. Mol. Biol. 157 (1): 105–32. PMID 7108955"
   ]
  },
  {
   "cell_type": "code",
   "execution_count": 19,
   "id": "affecting-transfer",
   "metadata": {},
   "outputs": [
    {
     "data": {
      "text/plain": [
       "-0.561111111111111"
      ]
     },
     "execution_count": 19,
     "metadata": {},
     "output_type": "execute_result"
    }
   ],
   "source": [
    "analysed_seq.gravy()"
   ]
  },
  {
   "cell_type": "markdown",
   "id": "attended-andrews",
   "metadata": {},
   "source": [
    "**Amino Acid Count**"
   ]
  },
  {
   "cell_type": "code",
   "execution_count": 20,
   "id": "hazardous-grave",
   "metadata": {
    "scrolled": true
   },
   "outputs": [
    {
     "data": {
      "text/plain": [
       "{'A': 1,\n",
       " 'C': 0,\n",
       " 'D': 2,\n",
       " 'E': 1,\n",
       " 'F': 3,\n",
       " 'G': 1,\n",
       " 'H': 0,\n",
       " 'I': 2,\n",
       " 'K': 0,\n",
       " 'L': 5,\n",
       " 'M': 0,\n",
       " 'N': 6,\n",
       " 'P': 0,\n",
       " 'Q': 3,\n",
       " 'R': 3,\n",
       " 'S': 5,\n",
       " 'T': 2,\n",
       " 'V': 1,\n",
       " 'W': 0,\n",
       " 'Y': 1}"
      ]
     },
     "execution_count": 20,
     "metadata": {},
     "output_type": "execute_result"
    }
   ],
   "source": [
    "analysed_seq.count_amino_acids()"
   ]
  },
  {
   "cell_type": "markdown",
   "id": "failing-timeline",
   "metadata": {},
   "source": [
    "**Amino Acid Percentage**"
   ]
  },
  {
   "cell_type": "code",
   "execution_count": 21,
   "id": "fleet-scholarship",
   "metadata": {},
   "outputs": [
    {
     "data": {
      "text/plain": [
       "{'A': 0.027777777777777776,\n",
       " 'C': 0.0,\n",
       " 'D': 0.05555555555555555,\n",
       " 'E': 0.027777777777777776,\n",
       " 'F': 0.08333333333333333,\n",
       " 'G': 0.027777777777777776,\n",
       " 'H': 0.0,\n",
       " 'I': 0.05555555555555555,\n",
       " 'K': 0.0,\n",
       " 'L': 0.1388888888888889,\n",
       " 'M': 0.0,\n",
       " 'N': 0.16666666666666666,\n",
       " 'P': 0.0,\n",
       " 'Q': 0.08333333333333333,\n",
       " 'R': 0.08333333333333333,\n",
       " 'S': 0.1388888888888889,\n",
       " 'T': 0.05555555555555555,\n",
       " 'V': 0.027777777777777776,\n",
       " 'W': 0.0,\n",
       " 'Y': 0.027777777777777776}"
      ]
     },
     "execution_count": 21,
     "metadata": {},
     "output_type": "execute_result"
    }
   ],
   "source": [
    "analysed_seq.get_amino_acids_percent()"
   ]
  },
  {
   "cell_type": "markdown",
   "id": "threatened-programmer",
   "metadata": {},
   "source": [
    "**Secondary Structure**\n",
    "\n",
    "Returns a tuple of (helix, turn, sheet) percentage. Note that not all residues belong to a secondary structure, hence why the sum(fractions) != 1"
   ]
  },
  {
   "cell_type": "code",
   "execution_count": 22,
   "id": "russian-jacob",
   "metadata": {},
   "outputs": [
    {
     "data": {
      "text/plain": [
       "(0.3333333333333333, 0.3333333333333333, 0.19444444444444445)"
      ]
     },
     "execution_count": 22,
     "metadata": {},
     "output_type": "execute_result"
    }
   ],
   "source": [
    "analysed_seq.secondary_structure_fraction() # helix, turn, sheet"
   ]
  },
  {
   "cell_type": "markdown",
   "id": "stuck-hygiene",
   "metadata": {},
   "source": [
    "**Protein Scales**"
   ]
  },
  {
   "cell_type": "markdown",
   "id": "clean-cattle",
   "metadata": {},
   "source": [
    "Scales are located [here](https://github.com/biopython/biopython/blob/master/Bio/SeqUtils/ProtParamData.py#L6).\n",
    "\n",
    "- Kyte & Doolittle index of hydrophobicity --> kd\n",
    "- Normalized flexibility parameters (B-values), average --> flex\n",
    "- Hydrophilicity --> hw\n",
    "- Surface accessibility --> em\n",
    "- Janin Interior to surface transfer energy scale --> ja"
   ]
  },
  {
   "cell_type": "code",
   "execution_count": 23,
   "id": "present-video",
   "metadata": {},
   "outputs": [],
   "source": [
    "kd = {\"A\": 1.8, \"R\": -4.5, \"N\": -3.5, \"D\": -3.5, \"C\": 2.5,\n",
    "      \"Q\": -3.5, \"E\": -3.5, \"G\": -0.4, \"H\": -3.2, \"I\": 4.5,\n",
    "      \"L\": 3.8, \"K\": -3.9, \"M\": 1.9, \"F\": 2.8, \"P\": -1.6,\n",
    "      \"S\": -0.8, \"T\": -0.7, \"W\": -0.9, \"Y\": -1.3, \"V\": 4.2}\n",
    "\n",
    "flex = {\"A\": 0.984, \"C\": 0.906, \"E\": 1.094, \"D\": 1.068,\n",
    "        \"G\": 1.031, \"F\": 0.915, \"I\": 0.927, \"H\": 0.950,\n",
    "        \"K\": 1.102, \"M\": 0.952, \"L\": 0.935, \"N\": 1.048,\n",
    "        \"Q\": 1.037, \"P\": 1.049, \"S\": 1.046, \"R\": 1.008,\n",
    "        \"T\": 0.997, \"W\": 0.904, \"V\": 0.931, \"Y\": 0.929}\n",
    "\n",
    "hw = {\"A\": -0.5, \"R\": 3.0, \"N\": 0.2, \"D\": 3.0, \"C\": -1.0,\n",
    "      \"Q\": 0.2, \"E\": 3.0, \"G\": 0.0, \"H\": -0.5, \"I\": -1.8,\n",
    "      \"L\": -1.8, \"K\": 3.0, \"M\": -1.3, \"F\": -2.5, \"P\": 0.0,\n",
    "      \"S\": 0.3, \"T\": -0.4, \"W\": -3.4, \"Y\": -2.3, \"V\": -1.5}\n",
    "\n",
    "em = {\"A\": 0.815, \"R\": 1.475, \"N\": 1.296, \"D\": 1.283, \"C\": 0.394,\n",
    "      \"Q\": 1.348, \"E\": 1.445, \"G\": 0.714, \"H\": 1.180, \"I\": 0.603,\n",
    "      \"L\": 0.603, \"K\": 1.545, \"M\": 0.714, \"F\": 0.695, \"P\": 1.236,\n",
    "      \"S\": 1.115, \"T\": 1.184, \"W\": 0.808, \"Y\": 1.089, \"V\": 0.606}\n",
    "\n",
    "ja = {\"A\": 0.28, \"R\": -1.14, \"N\": -0.55, \"D\": -0.52, \"C\": 0.97,\n",
    "      \"Q\": -0.69, \"E\": -1.01, \"G\": 0.43, \"H\": -0.31, \"I\": 0.60,\n",
    "      \"L\": 0.60, \"K\": -1.62, \"M\": 0.43, \"F\": 0.46, \"P\": -0.42,\n",
    "      \"S\": -0.19, \"T\": -0.32, \"W\": 0.29, \"Y\": -0.15, \"V\": 0.60}"
   ]
  },
  {
   "cell_type": "code",
   "execution_count": 24,
   "id": "ancient-hours",
   "metadata": {
    "scrolled": false
   },
   "outputs": [
    {
     "data": {
      "text/plain": [
       "[-2.6,\n",
       " -0.8333333333333334,\n",
       " -0.09999999999999994,\n",
       " 2.0,\n",
       " -0.6666666666666666,\n",
       " 0.6999999999999998,\n",
       " -1.4000000000000001,\n",
       " -1.7333333333333334,\n",
       " -1.7333333333333334,\n",
       " -1.7333333333333334,\n",
       " -1.4000000000000001,\n",
       " -2.566666666666667,\n",
       " -2.566666666666667,\n",
       " -0.13333333333333344,\n",
       " 1.5999999999999999,\n",
       " 4.033333333333333,\n",
       " 1.5999999999999999,\n",
       " -1.4000000000000001,\n",
       " -3.8333333333333335,\n",
       " -2.066666666666667,\n",
       " -0.8333333333333334,\n",
       " 1.7333333333333334,\n",
       " 0.8666666666666667,\n",
       " 0.8666666666666668,\n",
       " -0.8000000000000002,\n",
       " -0.6666666666666666,\n",
       " -1.5666666666666667,\n",
       " -0.03333333333333336,\n",
       " -1.4000000000000001,\n",
       " 1.0333333333333332,\n",
       " -0.4666666666666668,\n",
       " -0.1333333333333334,\n",
       " -0.13333333333333344,\n",
       " -1.0666666666666667]"
      ]
     },
     "execution_count": 24,
     "metadata": {},
     "output_type": "execute_result"
    }
   ],
   "source": [
    "analysed_seq.protein_scale(window=3, param_dict=kd)"
   ]
  },
  {
   "cell_type": "code",
   "execution_count": null,
   "id": "confident-investigator",
   "metadata": {},
   "outputs": [],
   "source": []
  },
  {
   "cell_type": "code",
   "execution_count": null,
   "id": "coastal-linux",
   "metadata": {},
   "outputs": [],
   "source": []
  },
  {
   "cell_type": "code",
   "execution_count": null,
   "id": "portable-retirement",
   "metadata": {},
   "outputs": [],
   "source": []
  }
 ],
 "metadata": {
  "kernelspec": {
   "display_name": "Python 3",
   "language": "python",
   "name": "python3"
  },
  "language_info": {
   "codemirror_mode": {
    "name": "ipython",
    "version": 3
   },
   "file_extension": ".py",
   "mimetype": "text/x-python",
   "name": "python",
   "nbconvert_exporter": "python",
   "pygments_lexer": "ipython3",
   "version": "3.8.5"
  },
  "toc": {
   "base_numbering": 1,
   "nav_menu": {},
   "number_sections": true,
   "sideBar": true,
   "skip_h1_title": false,
   "title_cell": "Table of Contents",
   "title_sidebar": "Contents",
   "toc_cell": false,
   "toc_position": {},
   "toc_section_display": true,
   "toc_window_display": false
  }
 },
 "nbformat": 4,
 "nbformat_minor": 5
}
