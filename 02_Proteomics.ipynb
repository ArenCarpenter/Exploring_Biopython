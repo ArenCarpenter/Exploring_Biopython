{
 "cells": [
  {
   "cell_type": "markdown",
   "id": "indonesian-hollywood",
   "metadata": {},
   "source": [
    "Be sure to activate the \"biopython\" conda environment."
   ]
  },
  {
   "cell_type": "code",
   "execution_count": 10,
   "id": "weekly-cassette",
   "metadata": {},
   "outputs": [],
   "source": [
    "# !jupyter-nbextension enable nglview --py --sys-prefix"
   ]
  },
  {
   "cell_type": "code",
   "execution_count": 6,
   "id": "engaged-ecology",
   "metadata": {},
   "outputs": [],
   "source": [
    "from Bio.PDB import *\n",
    "import nglview as nv\n",
    "import ipywidgets\n",
    "\n",
    "import warnings\n",
    "warnings.filterwarnings('ignore')"
   ]
  },
  {
   "cell_type": "code",
   "execution_count": 2,
   "id": "freelance-quilt",
   "metadata": {},
   "outputs": [],
   "source": [
    "parser = PDBParser()"
   ]
  },
  {
   "cell_type": "code",
   "execution_count": 7,
   "id": "burning-junior",
   "metadata": {},
   "outputs": [],
   "source": [
    "structure = parser.get_structure(\"PHA-L\", \"Data/1FAT.pdb\")"
   ]
  },
  {
   "cell_type": "code",
   "execution_count": 8,
   "id": "maritime-washington",
   "metadata": {},
   "outputs": [
    {
     "data": {
      "application/vnd.jupyter.widget-view+json": {
       "model_id": "5cf78470a9bb46358bd85c31e7debfd4",
       "version_major": 2,
       "version_minor": 0
      },
      "text/plain": [
       "NGLWidget()"
      ]
     },
     "metadata": {},
     "output_type": "display_data"
    }
   ],
   "source": [
    "view = nv.show_biopython(structure)\n",
    "view"
   ]
  },
  {
   "cell_type": "code",
   "execution_count": null,
   "id": "mechanical-sperm",
   "metadata": {},
   "outputs": [],
   "source": []
  }
 ],
 "metadata": {
  "kernelspec": {
   "display_name": "Python 3",
   "language": "python",
   "name": "python3"
  },
  "language_info": {
   "codemirror_mode": {
    "name": "ipython",
    "version": 3
   },
   "file_extension": ".py",
   "mimetype": "text/x-python",
   "name": "python",
   "nbconvert_exporter": "python",
   "pygments_lexer": "ipython3",
   "version": "3.8.5"
  },
  "toc": {
   "base_numbering": 1,
   "nav_menu": {},
   "number_sections": true,
   "sideBar": true,
   "skip_h1_title": false,
   "title_cell": "Table of Contents",
   "title_sidebar": "Contents",
   "toc_cell": false,
   "toc_position": {},
   "toc_section_display": true,
   "toc_window_display": false
  }
 },
 "nbformat": 4,
 "nbformat_minor": 5
}
