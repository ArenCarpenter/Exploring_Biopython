{
 "cells": [
  {
   "cell_type": "code",
   "execution_count": 3,
   "metadata": {},
   "outputs": [
    {
     "name": "stdout",
     "output_type": "stream",
     "text": [
      "Alignment with 6 rows and 13 columns\n",
      "AACGTGGCCACAT Alpha\n",
      "AAGGTCGCCACAC Beta\n",
      "CAGTTCGCCACAA Gamma\n",
      "GAGATTTCCGCCT Delta\n",
      "GAGATCTCCGCCC Epsilon\n",
      "GAGATCTCCGCCT F\n",
      "\n",
      "Distance Matrix\n",
      "===================\n",
      "Alpha\t0\n",
      "Beta\t0.23076923076923073\t0\n",
      "Gamma\t0.3846153846153846\t0.23076923076923073\t0\n",
      "Delta\t0.5384615384615384\t0.5384615384615384\t0.5384615384615384\t0\n",
      "Epsilon\t0.6153846153846154\t0.3846153846153846\t0.46153846153846156\t0.15384615384615385\t0\n",
      "F\t0.5384615384615384\t0.46153846153846156\t0.46153846153846156\t0.07692307692307687\t0.07692307692307687\t0\n",
      "\tAlpha\tBeta\tGamma\tDelta\tEpsilon\tF\n"
     ]
    },
    {
     "data": {
      "image/png": "[encoded data removed]",
      "text/plain": [
       "<Figure size 432x288 with 1 Axes>"
      ]
     },
     "metadata": {
      "needs_background": "light"
     },
     "output_type": "display_data"
    },
    {
     "name": "stdout",
     "output_type": "stream",
     "text": [
      "\n",
      "Phylogenetic Tree\n",
      "===================\n",
      "                                                            __________ F\n",
      "                                                       ____|\n",
      "  ____________________________________________________|    |__________ Epsilon\n",
      " |                                                    |\n",
      " |                                                    |_______________ Delta\n",
      "_|\n",
      " |                                      ______________________________ Gamma\n",
      " |                            _________|\n",
      " |___________________________|         |______________________________ Beta\n",
      "                             |\n",
      "                             |________________________________________ Alpha\n",
      "\n"
     ]
    }
   ],
   "source": [
    "# Import modules\n",
    "from Bio import Phylo\n",
    "from Bio.Phylo.TreeConstruction import DistanceCalculator\n",
    "from Bio.Phylo.TreeConstruction import DistanceTreeConstructor\n",
    "from Bio import AlignIO\n",
    "\n",
    "# Read the sequences and align\n",
    "aln = AlignIO.read('msa1.phy', 'phylip')\n",
    "\n",
    "# Print the alignment\n",
    "print(aln)\n",
    "\n",
    "# Calculate the distance matrix\n",
    "calculator = DistanceCalculator('identity')\n",
    "dm = calculator.get_distance(aln)\n",
    "\n",
    "# Print the distance Matrix\n",
    "print('\\nDistance Matrix\\n===================')\n",
    "print(dm)\n",
    "\n",
    "# Construct the phylogenetic tree using UPGMA algorithm\n",
    "constructor = DistanceTreeConstructor()\n",
    "tree = constructor.upgma(dm)\n",
    "\n",
    "# Draw the phylogenetic tree\n",
    "Phylo.draw(tree)\n",
    "\n",
    "# Print the phylogenetic tree in the terminal\n",
    "print('\\nPhylogenetic Tree\\n===================')\n",
    "Phylo.draw_ascii(tree)"
   ]
  },
  {
   "cell_type": "code",
   "execution_count": null,
   "metadata": {},
   "outputs": [],
   "source": []
  }
 ],
 "metadata": {
  "kernelspec": {
   "display_name": "Python 3",
   "language": "python",
   "name": "python3"
  },
  "language_info": {
   "codemirror_mode": {
    "name": "ipython",
    "version": 3
   },
   "file_extension": ".py",
   "mimetype": "text/x-python",
   "name": "python",
   "nbconvert_exporter": "python",
   "pygments_lexer": "ipython3",
   "version": "3.7.6"
  },
  "toc": {
   "base_numbering": 1,
   "nav_menu": {},
   "number_sections": true,
   "sideBar": true,
   "skip_h1_title": false,
   "title_cell": "Table of Contents",
   "title_sidebar": "Contents",
   "toc_cell": false,
   "toc_position": {},
   "toc_section_display": true,
   "toc_window_display": false
  }
 },
 "nbformat": 4,
 "nbformat_minor": 4
}
